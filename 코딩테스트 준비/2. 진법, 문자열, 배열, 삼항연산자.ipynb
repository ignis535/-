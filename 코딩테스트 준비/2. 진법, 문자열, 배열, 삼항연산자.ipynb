{
 "cells": [
  {
   "cell_type": "markdown",
   "id": "b0314bc6",
   "metadata": {},
   "source": [
    "# 1. 진법"
   ]
  },
  {
   "cell_type": "markdown",
   "id": "fb03defc",
   "metadata": {},
   "source": [
    "## 1-1. 10진수 $\\rightarrow$ 2 진수 변환"
   ]
  },
  {
   "cell_type": "code",
   "execution_count": null,
   "id": "10e65ffd",
   "metadata": {},
   "outputs": [],
   "source": [
    "bin(42)"
   ]
  },
  {
   "cell_type": "markdown",
   "id": "c0f1359d",
   "metadata": {},
   "source": [
    "## 1-2. 10진수 $\\rightarrow$ 8 진수 변환"
   ]
  },
  {
   "cell_type": "code",
   "execution_count": null,
   "id": "56bb7496",
   "metadata": {},
   "outputs": [],
   "source": [
    "oct(42)"
   ]
  },
  {
   "cell_type": "markdown",
   "id": "999a2606",
   "metadata": {},
   "source": [
    "## 1-3. 10진수 $\\rightarrow$ 16 진수 변환"
   ]
  },
  {
   "cell_type": "code",
   "execution_count": null,
   "id": "3ae01f52",
   "metadata": {},
   "outputs": [],
   "source": [
    "hex(42)"
   ]
  },
  {
   "cell_type": "markdown",
   "id": "30fdb49c",
   "metadata": {},
   "source": [
    "## 1-4. 2진수 $\\rightarrow$ 10 진수 변환"
   ]
  },
  {
   "cell_type": "code",
   "execution_count": null,
   "id": "3d6489c2",
   "metadata": {},
   "outputs": [],
   "source": [
    "int(\"0b111100\", 2)"
   ]
  },
  {
   "cell_type": "markdown",
   "id": "d35cfaf3",
   "metadata": {},
   "source": [
    "## 1-5. 8진수 $\\rightarrow$ 16 진수 변환"
   ]
  },
  {
   "cell_type": "code",
   "execution_count": null,
   "id": "c2146410",
   "metadata": {},
   "outputs": [],
   "source": [
    "int(\"0o74\", 8)"
   ]
  },
  {
   "cell_type": "markdown",
   "id": "6979c6fc",
   "metadata": {},
   "source": [
    "## 1-6. 16진수 $\\rightarrow$ 10 진수 변환"
   ]
  },
  {
   "cell_type": "code",
   "execution_count": null,
   "id": "7e196212",
   "metadata": {},
   "outputs": [],
   "source": [
    "int(\"Ox3c\", 16)"
   ]
  },
  {
   "cell_type": "markdown",
   "id": "976e7441",
   "metadata": {},
   "source": [
    "# 2. 문자열"
   ]
  },
  {
   "cell_type": "markdown",
   "id": "16bb6cbc",
   "metadata": {},
   "source": [
    "## 2-1. 문자열을 거꾸로"
   ]
  },
  {
   "cell_type": "code",
   "execution_count": null,
   "id": "be8e0d4a",
   "metadata": {},
   "outputs": [],
   "source": [
    "string = \"ABCD\"\n",
    "print(string[::-1])"
   ]
  },
  {
   "cell_type": "markdown",
   "id": "7684ad60",
   "metadata": {},
   "source": [
    "## 2-2. 아스키코드"
   ]
  },
  {
   "cell_type": "code",
   "execution_count": null,
   "id": "521ff562",
   "metadata": {},
   "outputs": [],
   "source": [
    "# 문자를 아스키 코드로 변환\n",
    "ord('A')"
   ]
  },
  {
   "cell_type": "code",
   "execution_count": null,
   "id": "f98d061f",
   "metadata": {},
   "outputs": [],
   "source": [
    "# 아스키 코드를 문자로 변환\n",
    "chr(65)"
   ]
  },
  {
   "cell_type": "markdown",
   "id": "5032c6f0",
   "metadata": {},
   "source": [
    "# 3. 배열"
   ]
  },
  {
   "cell_type": "markdown",
   "id": "b21463f7",
   "metadata": {},
   "source": [
    "## 3-1. 배열 초기화"
   ]
  },
  {
   "cell_type": "code",
   "execution_count": 2,
   "id": "a8626155",
   "metadata": {},
   "outputs": [
    {
     "name": "stdout",
     "output_type": "stream",
     "text": [
      "3 5\n",
      "[[0, 0, 0, 0, 0], [0, 0, 0, 0, 0], [0, 0, 0, 0, 0]]\n"
     ]
    }
   ],
   "source": [
    "n, m = map(int, input().split())\n",
    "arr = [[0] * m for _ in range(n)] # n행 m열\n",
    "print(arr)"
   ]
  },
  {
   "cell_type": "markdown",
   "id": "82f0af3c",
   "metadata": {},
   "source": [
    "## 3-2. 배열의 원소를 거꾸로"
   ]
  },
  {
   "cell_type": "code",
   "execution_count": 4,
   "id": "bb5c97d7",
   "metadata": {},
   "outputs": [
    {
     "name": "stdout",
     "output_type": "stream",
     "text": [
      "[4, 3, 2, 1]\n"
     ]
    }
   ],
   "source": [
    "# 반환값 없음\n",
    "arr = [1, 2, 3, 4]\n",
    "arr.reverse()\n",
    "print(arr)"
   ]
  },
  {
   "cell_type": "markdown",
   "id": "ae1985f0",
   "metadata": {},
   "source": [
    "## 3-3. 배열(문자열)의 특정 원소 갯수"
   ]
  },
  {
   "cell_type": "code",
   "execution_count": 5,
   "id": "11e5eeaf",
   "metadata": {},
   "outputs": [
    {
     "name": "stdout",
     "output_type": "stream",
     "text": [
      "3\n",
      "3\n"
     ]
    }
   ],
   "source": [
    "arr = [1, 2, 3, 3, 3, 4, 5]\n",
    "string = \"banana\"\n",
    "print(arr.count(3))\n",
    "print(string.count('a'))"
   ]
  },
  {
   "cell_type": "markdown",
   "id": "690aeae2",
   "metadata": {},
   "source": [
    "## 3-4. 원소 중복 제거"
   ]
  },
  {
   "cell_type": "code",
   "execution_count": 6,
   "id": "48afa3e4",
   "metadata": {},
   "outputs": [
    {
     "name": "stdout",
     "output_type": "stream",
     "text": [
      "['b', 'a', 'e', 'f', 'd', 'c', 'g']\n"
     ]
    }
   ],
   "source": [
    "alpha = ['a' ,'b', 'c', 'd', 'e', 'f', 'g', 'a', 'b' ,'c', 'd']\n",
    "print(list(set(alpha)))"
   ]
  },
  {
   "cell_type": "code",
   "execution_count": 11,
   "id": "8f68cbfa",
   "metadata": {},
   "outputs": [
    {
     "name": "stdout",
     "output_type": "stream",
     "text": [
      "[(1,), (1, 2)]\n"
     ]
    }
   ],
   "source": [
    "# 2차원 리스트의 경우\n",
    "lst = [[1, 2], [1, 2], [1]]\n",
    "print(list(set(list(map(tuple, lst)))))"
   ]
  },
  {
   "cell_type": "markdown",
   "id": "aa8a9bc0",
   "metadata": {},
   "source": [
    "## 3-5. 배열 정렬"
   ]
  },
  {
   "cell_type": "code",
   "execution_count": 13,
   "id": "89d346dc",
   "metadata": {},
   "outputs": [
    {
     "name": "stdout",
     "output_type": "stream",
     "text": [
      "[1, 2, 3, 4, 6, 7]\n"
     ]
    }
   ],
   "source": [
    "# 오름차순\n",
    "arr = [1, 3, 4, 2, 7, 6]\n",
    "arr.sort()\n",
    "print(arr)"
   ]
  },
  {
   "cell_type": "code",
   "execution_count": 16,
   "id": "dc06e5aa",
   "metadata": {},
   "outputs": [
    {
     "name": "stdout",
     "output_type": "stream",
     "text": [
      "[7, 6, 4, 3, 2, 1]\n"
     ]
    }
   ],
   "source": [
    "# 내림차순\n",
    "arr.sort(reverse = True)\n",
    "print(arr)"
   ]
  },
  {
   "cell_type": "code",
   "execution_count": 21,
   "id": "43abcb91",
   "metadata": {},
   "outputs": [
    {
     "name": "stdout",
     "output_type": "stream",
     "text": [
      "[[1, 2, 3], [2, 2, 2], [3, 5, 7], [5, 2, 4]]\n"
     ]
    }
   ],
   "source": [
    "# 원소가 리스트인 경우 정렬\n",
    "arr = [[1, 2, 3], [5, 2, 4], [3, 5, 7], [2, 2, 2]]\n",
    "arr.sort(key = lambda x : (x[0], -x[1]))\n",
    "print(arr)"
   ]
  },
  {
   "cell_type": "markdown",
   "id": "9d6f7581",
   "metadata": {},
   "source": [
    "# 4. 삼항 연산자"
   ]
  },
  {
   "cell_type": "code",
   "execution_count": 23,
   "id": "76384530",
   "metadata": {},
   "outputs": [
    {
     "name": "stdout",
     "output_type": "stream",
     "text": [
      "5\n"
     ]
    }
   ],
   "source": [
    "a = 5\n",
    "b = 2\n",
    "res = a if a >= b else b\n",
    "print(res)"
   ]
  }
 ],
 "metadata": {
  "kernelspec": {
   "display_name": "Python 3 (ipykernel)",
   "language": "python",
   "name": "python3"
  },
  "language_info": {
   "codemirror_mode": {
    "name": "ipython",
    "version": 3
   },
   "file_extension": ".py",
   "mimetype": "text/x-python",
   "name": "python",
   "nbconvert_exporter": "python",
   "pygments_lexer": "ipython3",
   "version": "3.9.2"
  }
 },
 "nbformat": 4,
 "nbformat_minor": 5
}
