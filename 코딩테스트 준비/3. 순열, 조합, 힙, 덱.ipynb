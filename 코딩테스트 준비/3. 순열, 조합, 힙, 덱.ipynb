{
 "cells": [
  {
   "cell_type": "markdown",
   "id": "17a5c071",
   "metadata": {},
   "source": [
    "# 1. 순열과 조합"
   ]
  },
  {
   "cell_type": "code",
   "execution_count": 5,
   "id": "8a4ec29d",
   "metadata": {},
   "outputs": [
    {
     "name": "stdout",
     "output_type": "stream",
     "text": [
      "1234\n",
      "1243\n",
      "1324\n",
      "1342\n",
      "1423\n",
      "1432\n",
      "2134\n",
      "2143\n",
      "2314\n",
      "2341\n",
      "2413\n",
      "2431\n",
      "3124\n",
      "3142\n",
      "3214\n",
      "3241\n",
      "3412\n",
      "3421\n",
      "4123\n",
      "4132\n",
      "4213\n",
      "4231\n",
      "4312\n",
      "4321\n"
     ]
    }
   ],
   "source": [
    "n      = 4\n",
    "arr    = [1, 2, 3, 4]\n",
    "result = [0] * 4\n",
    "check  = [0] * 4\n",
    "\n",
    "def dfs(level):\n",
    "    if level == n:\n",
    "        print(\"\".join(map(str, result)))\n",
    "    else:\n",
    "        for i in range(n):\n",
    "            if(check[i] != 1):\n",
    "                check[i] = 1\n",
    "                result[level] = arr[i]\n",
    "                dfs(level + 1)\n",
    "                check[i] = 0\n",
    "\n",
    "dfs(0)"
   ]
  },
  {
   "cell_type": "code",
   "execution_count": 8,
   "id": "45e9f38f",
   "metadata": {},
   "outputs": [
    {
     "name": "stdout",
     "output_type": "stream",
     "text": [
      "12\n",
      "13\n",
      "14\n",
      "23\n",
      "24\n",
      "32\n",
      "34\n",
      "42\n",
      "43\n"
     ]
    }
   ],
   "source": [
    "n = 4\n",
    "r = 2\n",
    "arr = [1, 2, 3, 4]\n",
    "result = [0] * 2\n",
    "check = [0] * 4\n",
    "\n",
    "def dfs(level):\n",
    "    if level == r:\n",
    "        print(\"\".join(map(str, result)))\n",
    "    else:\n",
    "        for i in range(level, n):\n",
    "            if(check[i] != 1):\n",
    "                check[i] = 1\n",
    "                result[level] = arr[i]\n",
    "                dfs(level + 1)\n",
    "                check[i] = 0\n",
    "dfs(0)"
   ]
  },
  {
   "cell_type": "markdown",
   "id": "dbfb04c7",
   "metadata": {},
   "source": [
    "# 2. 힙(우선순위 큐)"
   ]
  },
  {
   "cell_type": "code",
   "execution_count": 10,
   "id": "170af5be",
   "metadata": {},
   "outputs": [
    {
     "name": "stdout",
     "output_type": "stream",
     "text": [
      "1\n",
      "3\n",
      "5\n",
      "8\n",
      "10\n"
     ]
    }
   ],
   "source": [
    "# 최소힙\n",
    "import heapq\n",
    "\n",
    "heap = []\n",
    "heapq.heappush(heap, 3)\n",
    "heapq.heappush(heap, 1)\n",
    "heapq.heappush(heap, 10)\n",
    "heapq.heappush(heap, 5)\n",
    "heapq.heappush(heap, 8)\n",
    "\n",
    "for _ in range(len(heap)):\n",
    "    print(heapq.heappop(heap))"
   ]
  },
  {
   "cell_type": "code",
   "execution_count": 12,
   "id": "5b31cc24",
   "metadata": {},
   "outputs": [
    {
     "name": "stdout",
     "output_type": "stream",
     "text": [
      "10\n",
      "8\n",
      "5\n",
      "3\n",
      "1\n"
     ]
    }
   ],
   "source": [
    "# 최대힙\n",
    "import heapq\n",
    "\n",
    "heap = []\n",
    "heapq.heappush(heap, -3)\n",
    "heapq.heappush(heap, -1)\n",
    "heapq.heappush(heap, -10)\n",
    "heapq.heappush(heap, -5)\n",
    "heapq.heappush(heap, -8)\n",
    "\n",
    "for _ in range(len(heap)):\n",
    "    print(-heapq.heappop(heap))"
   ]
  },
  {
   "cell_type": "markdown",
   "id": "5e61500f",
   "metadata": {},
   "source": [
    "# 3. 덱(스택 + 큐)"
   ]
  },
  {
   "cell_type": "code",
   "execution_count": 19,
   "id": "911925e1",
   "metadata": {},
   "outputs": [
    {
     "name": "stdout",
     "output_type": "stream",
     "text": [
      "5 deque([0, 1, 2, 3, 4])\n",
      "deque([1, 2, 3, 4, 0])\n"
     ]
    }
   ],
   "source": [
    "from collections import deque\n",
    "deq = deque([1, 2, 3])\n",
    "deq.append(4)\n",
    "deq.appendleft(0)\n",
    "print(len(deq), deq)\n",
    "deq.rotate(-1)\n",
    "print(deq)"
   ]
  },
  {
   "cell_type": "code",
   "execution_count": null,
   "id": "13200da4",
   "metadata": {},
   "outputs": [],
   "source": []
  }
 ],
 "metadata": {
  "kernelspec": {
   "display_name": "Python 3 (ipykernel)",
   "language": "python",
   "name": "python3"
  },
  "language_info": {
   "codemirror_mode": {
    "name": "ipython",
    "version": 3
   },
   "file_extension": ".py",
   "mimetype": "text/x-python",
   "name": "python",
   "nbconvert_exporter": "python",
   "pygments_lexer": "ipython3",
   "version": "3.9.2"
  }
 },
 "nbformat": 4,
 "nbformat_minor": 5
}
