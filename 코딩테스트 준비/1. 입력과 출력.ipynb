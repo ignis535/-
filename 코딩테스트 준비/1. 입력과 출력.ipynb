{
 "cells": [
  {
   "cell_type": "markdown",
   "id": "489aff9f",
   "metadata": {},
   "source": [
    "* 출처: 용감하게 시작하는 코딩테스트1\n",
    ": https://covenant.tistory.com/141"
   ]
  },
  {
   "cell_type": "markdown",
   "id": "a8f9635e",
   "metadata": {},
   "source": [
    "# 1. 다양한 입력"
   ]
  },
  {
   "cell_type": "markdown",
   "id": "56bf9346",
   "metadata": {},
   "source": [
    "## 1-1. 나누어 입력받기"
   ]
  },
  {
   "cell_type": "code",
   "execution_count": 1,
   "id": "27bf941b",
   "metadata": {},
   "outputs": [
    {
     "name": "stdout",
     "output_type": "stream",
     "text": [
      "1 2\n"
     ]
    }
   ],
   "source": [
    "a, b = map(int, input().split())"
   ]
  },
  {
   "cell_type": "markdown",
   "id": "5f22fff4",
   "metadata": {},
   "source": [
    "## 1-2. 입력 출력 가속"
   ]
  },
  {
   "cell_type": "code",
   "execution_count": 2,
   "id": "67667e94",
   "metadata": {},
   "outputs": [],
   "source": [
    "# jupyter notebook에서는 작동x\n",
    "import sys\n",
    "n = int(sys.stdin.readline())\n",
    "sys.stdout.write(n)"
   ]
  },
  {
   "cell_type": "markdown",
   "id": "f064cda6",
   "metadata": {},
   "source": [
    "## 1-3. 무한한 입력"
   ]
  },
  {
   "cell_type": "code",
   "execution_count": 15,
   "id": "9e4e011c",
   "metadata": {},
   "outputs": [],
   "source": [
    "# jupyter notebook에서는 작동x\n",
    "try:\n",
    "    while True:\n",
    "        a, b = map(int, input().split())\n",
    "        print(a + b)\n",
    "except:\n",
    "    exit()"
   ]
  },
  {
   "cell_type": "markdown",
   "id": "960ad3be",
   "metadata": {},
   "source": [
    "# 2. 배열 입력"
   ]
  },
  {
   "cell_type": "markdown",
   "id": "81bae1da",
   "metadata": {},
   "source": [
    "## 2-1. 우아한 배열 입력"
   ]
  },
  {
   "cell_type": "code",
   "execution_count": 3,
   "id": "04024254",
   "metadata": {},
   "outputs": [
    {
     "name": "stdout",
     "output_type": "stream",
     "text": [
      "3\n",
      "1 2 3\n",
      "4 5 6\n",
      "7 8 9\n"
     ]
    }
   ],
   "source": [
    "arr = [list(map(int, input().split())) for _ in range(int(input()))]"
   ]
  },
  {
   "cell_type": "markdown",
   "id": "11ad3576",
   "metadata": {},
   "source": [
    "## 2-2. 정수와 배열이 같은 줄에 들어오는 경우"
   ]
  },
  {
   "cell_type": "code",
   "execution_count": 5,
   "id": "d6d0ef7c",
   "metadata": {},
   "outputs": [
    {
     "name": "stdout",
     "output_type": "stream",
     "text": [
      "4 10 20 30 40\n",
      "[10, 20, 30, 40]\n"
     ]
    }
   ],
   "source": [
    "# *arg: 입력의 갯수를 알 수 없을 때, 여러 개의 인자를 받는다.\n",
    "n, *arr = map(int, input().split())\n",
    "print(arr)"
   ]
  },
  {
   "cell_type": "markdown",
   "id": "07e4246f",
   "metadata": {},
   "source": [
    "## 2-3. 문자열을 한 글자씩 배열에 저장"
   ]
  },
  {
   "cell_type": "code",
   "execution_count": 12,
   "id": "d896426b",
   "metadata": {},
   "outputs": [
    {
     "name": "stdout",
     "output_type": "stream",
     "text": [
      "3\n",
      "AAAA\n",
      "BBBB\n",
      "ABAB\n",
      "[['A', 'A', 'A', 'A'], ['B', 'B', 'B', 'B'], ['A', 'B', 'A', 'B']]\n"
     ]
    }
   ],
   "source": [
    "arr = [list(input()) for _ in range(int(input()))]\n",
    "print(arr)"
   ]
  },
  {
   "cell_type": "markdown",
   "id": "18add931",
   "metadata": {},
   "source": [
    "# 3. 배열 출력"
   ]
  },
  {
   "cell_type": "markdown",
   "id": "826f497c",
   "metadata": {},
   "source": [
    "## 3-1. 배열을 연결해서 출력1"
   ]
  },
  {
   "cell_type": "code",
   "execution_count": 13,
   "id": "d6cdcfee",
   "metadata": {},
   "outputs": [
    {
     "name": "stdout",
     "output_type": "stream",
     "text": [
      "1234\n"
     ]
    }
   ],
   "source": [
    "arr = [1, 2, 3, 4]\n",
    "print(\"\".join(map(str, arr)))"
   ]
  },
  {
   "cell_type": "markdown",
   "id": "4f2922a0",
   "metadata": {},
   "source": [
    "## 3-2. 배열을 연결해서 출력2"
   ]
  },
  {
   "cell_type": "code",
   "execution_count": 14,
   "id": "9d0c4b9d",
   "metadata": {},
   "outputs": [
    {
     "name": "stdout",
     "output_type": "stream",
     "text": [
      "1 2 3 4\n"
     ]
    }
   ],
   "source": [
    "arr = [1, 2, 3, 4]\n",
    "print(*arr)"
   ]
  }
 ],
 "metadata": {
  "kernelspec": {
   "display_name": "Python 3 (ipykernel)",
   "language": "python",
   "name": "python3"
  },
  "language_info": {
   "codemirror_mode": {
    "name": "ipython",
    "version": 3
   },
   "file_extension": ".py",
   "mimetype": "text/x-python",
   "name": "python",
   "nbconvert_exporter": "python",
   "pygments_lexer": "ipython3",
   "version": "3.9.2"
  },
  "toc": {
   "base_numbering": 1,
   "nav_menu": {},
   "number_sections": true,
   "sideBar": true,
   "skip_h1_title": false,
   "title_cell": "Table of Contents",
   "title_sidebar": "Contents",
   "toc_cell": false,
   "toc_position": {},
   "toc_section_display": true,
   "toc_window_display": false
  }
 },
 "nbformat": 4,
 "nbformat_minor": 5
}
